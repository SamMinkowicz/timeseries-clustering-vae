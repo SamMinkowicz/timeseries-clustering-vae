{
 "cells": [
  {
   "cell_type": "code",
   "execution_count": 1,
   "id": "f1f03a42",
   "metadata": {},
   "outputs": [],
   "source": [
    "import fnmatch, os, sys\n",
    "# Change this path to be wherever your `cage_data` directory is\n",
    "sys.path.append('/media/storage/behavior_data/millerlab/cage_data-master')"
   ]
  },
  {
   "cell_type": "code",
   "execution_count": 2,
   "id": "a4e99249",
   "metadata": {},
   "outputs": [],
   "source": [
    "import cage_data\n",
    "import pickle\n",
    "import numpy as np\n",
    "from scipy import stats"
   ]
  },
  {
   "cell_type": "markdown",
   "id": "b96ffa80",
   "metadata": {},
   "source": [
    "## Load all cage data"
   ]
  },
  {
   "cell_type": "code",
   "execution_count": 31,
   "id": "c92f4cdf",
   "metadata": {},
   "outputs": [],
   "source": [
    "dir_path = '/media/storage/behavior_data/millerlab/continuous/'\n",
    "cage_data_filenames = [dir_path+'20201020_Pop_Cage_001.pkl',\n",
    "                       dir_path+'20201020_Pop_Cage_002.pkl',\n",
    "                       dir_path+'20201020_Pop_Cage_003.pkl',\n",
    "                       dir_path+'20201020_Pop_Cage_004.pkl',\n",
    "                       #dir_path+'20201020_Pop_Cage_005.pkl',\n",
    "                       dir_path+'20201020_Pop_Cage_006.pkl',\n",
    "                       dir_path+'20201020_Pop_Cage_007.pkl',]"
   ]
  },
  {
   "cell_type": "code",
   "execution_count": null,
   "id": "888aa8df",
   "metadata": {},
   "outputs": [],
   "source": [
    "# Print the begavior classes in each video\n",
    "\n",
    "# for file in cage_data_filenames:\n",
    "#     with open (file, 'rb' ) as fp:\n",
    "#         temp = pickle.load(fp)\n",
    "#     print(set(temp.behave_tags['tag']))"
   ]
  },
  {
   "cell_type": "markdown",
   "id": "591c1031",
   "metadata": {},
   "source": [
    "## Autocorrelation"
   ]
  },
  {
   "cell_type": "code",
   "execution_count": null,
   "id": "df04fb8a",
   "metadata": {},
   "outputs": [],
   "source": [
    "# YOU DON'T NEED TO RUN THIS - See where autocorrelation drops off in order to pick a sequence length \n",
    "%matplotlib notebook\n",
    "muscles = np.array(filtered_EMG)[:10000]\n",
    "\n",
    "from scipy.stats import pearsonr, zscore\n",
    "import matplotlib.pyplot as plt\n",
    "\n",
    "auto_corrs = 0\n",
    "muscles = muscles - np.mean(muscles, axis=0)\n",
    "\n",
    "for i, muscle in enumerate(muscles):\n",
    "    auto_corrs += (np.correlate(muscle, muscle, mode=\"full\")) / len(muscle)\n",
    "auto_corrs /= 16\n",
    "plt.plot(auto_corrs)"
   ]
  },
  {
   "cell_type": "markdown",
   "id": "3740b3c0",
   "metadata": {},
   "source": [
    "## Convert to VRAE format"
   ]
  },
  {
   "cell_type": "code",
   "execution_count": 32,
   "id": "26dff17a",
   "metadata": {},
   "outputs": [],
   "source": [
    "def convert_to_vrae_format(my_cage_data, SEQ_LEN, bhvs):\n",
    "    \n",
    "    # Sort all behavior segments by their start timestep - NOT EVERY EMG HAS A BEHAVIOR ASSIGNED TO IT \n",
    "    behavior_segs = my_cage_data.get_all_data_segment()\n",
    "    behavior_segs = sorted(behavior_segs, key=lambda k: k['timeframe'][0])\n",
    "    \n",
    "    # To get the rectified, filtered and downsampled EMGs\n",
    "    filtered_EMG = my_cage_data.binned['filtered_EMG']\n",
    "    filtered_EMG = np.array(filtered_EMG).T\n",
    "    \n",
    "    \n",
    "    # To get the time frame of the binned data\n",
    "    timeframe = my_cage_data.binned['timeframe']\n",
    "    \n",
    "    # Create list of tuples (time_stamp, behavior)\n",
    "    emg_lbls = []\n",
    "    for i, time in enumerate(timeframe):\n",
    "        curr_time_tup = None\n",
    "        for seg in behavior_segs:\n",
    "            if time >= seg['timeframe'][0] and time <= seg['timeframe'][-1]:\n",
    "                curr_emg_tup = np.concatenate((bhvs[seg['label']], filtered_EMG[i]))\n",
    "                break\n",
    "            else:\n",
    "                curr_emg_tup = np.concatenate((bhvs['no_behavior'], filtered_EMG[i]))\n",
    "        emg_lbls.append(curr_emg_tup)\n",
    "        \n",
    "    # Create array where timestamp is first dimension and (channels + behavior class) is second\n",
    "    emg_lbls = np.array(emg_lbls)\n",
    "    \n",
    "    # Chop off last last frames so we can evenly divide\n",
    "    rem = emg_lbls.shape[0] % SEQ_LEN\n",
    "    emg_lbls = emg_lbls[:-rem, :]\n",
    "    emg_lbls = emg_lbls.reshape(-1, SEQ_LEN, 16)\n",
    "    \n",
    "    # Find the most represented class in each sequence\n",
    "    out = []\n",
    "    overlap_idx = int(SEQ_LEN * 0.5)\n",
    "    for i, emg_seq in enumerate(emg_lbls):\n",
    "        # Append indexed sequence with its class\n",
    "        seq_class = stats.mode(emg_seq[:,0])[0]\n",
    "        flat_emg = emg_seq[:,1:].reshape(-1)\n",
    "        out.append(np.concatenate((seq_class, flat_emg)))\n",
    "\n",
    "        # Add 50% time overlap array to output\n",
    "        if i < len(emg_lbls) - 1:\n",
    "            overlap = np.concatenate((emg_seq[overlap_idx:, :], emg_lbls[i][:overlap_idx, :]), axis=0)\n",
    "            overlap_class = stats.mode(overlap[:,0])[0]\n",
    "            flat_overlap = overlap[:,1:].reshape(-1)\n",
    "            out.append(np.concatenate((overlap_class, flat_overlap)))\n",
    "    \n",
    "    out = np.array(out)\n",
    "    \n",
    "    return out"
   ]
  },
  {
   "cell_type": "code",
   "execution_count": 33,
   "id": "527a08cf",
   "metadata": {},
   "outputs": [],
   "source": [
    "SEQ_LEN = 10\n",
    "\n",
    "# Create behavior class dict for mapping - these are all the currently labeled behaviors they gave us\n",
    "bhvs = {'crawling': np.array([0]),\n",
    "        'high picking treats': np.array([1]),\n",
    "        'low picking treats': np.array([2]),\n",
    "        'pg': np.array([3]),\n",
    "        'sitting still': np.array([4]),\n",
    "        'grooming': np.array([5]),\n",
    "        'no_behavior': np.array([-1])}\n",
    "\n",
    "# Create inverse mapping for debugging\n",
    "# inv_bhvs = {v: k for k, v in bhvs.items()}\n",
    "inv_bhvs = {int(v): k for k, v in bhvs.items()}"
   ]
  },
  {
   "cell_type": "code",
   "execution_count": 34,
   "id": "00f48d3d",
   "metadata": {},
   "outputs": [
    {
     "name": "stdout",
     "output_type": "stream",
     "text": [
      "/media/storage/behavior_data/millerlab/continuous/20201020_Pop_Cage_001.pkl\n",
      "(3599, 151)\n",
      "/media/storage/behavior_data/millerlab/continuous/20201020_Pop_Cage_002.pkl\n",
      "(3599, 151)\n",
      "/media/storage/behavior_data/millerlab/continuous/20201020_Pop_Cage_003.pkl\n",
      "(3599, 151)\n",
      "/media/storage/behavior_data/millerlab/continuous/20201020_Pop_Cage_004.pkl\n",
      "(3601, 151)\n",
      "/media/storage/behavior_data/millerlab/continuous/20201020_Pop_Cage_006.pkl\n",
      "(3599, 151)\n",
      "/media/storage/behavior_data/millerlab/continuous/20201020_Pop_Cage_007.pkl\n",
      "(3599, 151)\n",
      "6\n"
     ]
    }
   ],
   "source": [
    "data_converted = []\n",
    "for file in cage_data_filenames:\n",
    "    print(file)\n",
    "    with open ( file, 'rb' ) as fh:\n",
    "        my_cage_data = pickle.load(fh)\n",
    "    converted_temp = convert_to_vrae_format(my_cage_data, SEQ_LEN, bhvs)\n",
    "    print(converted_temp.shape)\n",
    "    data_converted.append(converted_temp)\n",
    "print(len(data_converted))"
   ]
  },
  {
   "cell_type": "code",
   "execution_count": 39,
   "id": "14be475e",
   "metadata": {},
   "outputs": [
    {
     "name": "stdout",
     "output_type": "stream",
     "text": [
      "(21596, 151)\n"
     ]
    }
   ],
   "source": [
    "data_converted_stack = np.vstack(data_converted)\n",
    "print(data_converted_stack.shape)\n",
    "\n",
    "np.savetxt('/home/roton2/ruize/timeseries-clustering-vae/data/EMG/EMGe5_len10_TRAIN', data_converted_stack, delimiter=',')\n",
    "np.savetxt('/home/roton2/ruize/timeseries-clustering-vae/data/EMG/EMGe5_len10_TEST', data_converted_stack, delimiter=',')"
   ]
  }
 ],
 "metadata": {
  "kernelspec": {
   "display_name": "Python 3 (ipykernel)",
   "language": "python",
   "name": "python3"
  },
  "language_info": {
   "codemirror_mode": {
    "name": "ipython",
    "version": 3
   },
   "file_extension": ".py",
   "mimetype": "text/x-python",
   "name": "python",
   "nbconvert_exporter": "python",
   "pygments_lexer": "ipython3",
   "version": "3.9.7"
  }
 },
 "nbformat": 4,
 "nbformat_minor": 5
}
