{
 "cells": [
  {
   "cell_type": "code",
   "execution_count": 25,
   "id": "51f23a55",
   "metadata": {},
   "outputs": [],
   "source": [
    "import fnmatch, os, sys\n",
    "# Change this path to be wherever your `cage_data` directory is\n",
    "sys.path.append('/media/storage/behavior_data/millerlab/cage_data-master')"
   ]
  },
  {
   "cell_type": "code",
   "execution_count": 26,
   "id": "76306852",
   "metadata": {},
   "outputs": [],
   "source": [
    "import cage_data\n",
    "import pickle\n",
    "import numpy as np\n",
    "from scipy import stats"
   ]
  },
  {
   "cell_type": "markdown",
   "id": "a9567996",
   "metadata": {},
   "source": [
    "## Load all cage data"
   ]
  },
  {
   "cell_type": "code",
   "execution_count": 27,
   "id": "7fb08432",
   "metadata": {},
   "outputs": [],
   "source": [
    "dir_path = '/media/storage/behavior_data/millerlab/continuous/'\n",
    "cage_data_filenames = [dir_path+'20201020_Pop_Cage_001.pkl',\n",
    "                       dir_path+'20201020_Pop_Cage_002.pkl',\n",
    "                       dir_path+'20201020_Pop_Cage_003.pkl',\n",
    "                       dir_path+'20201020_Pop_Cage_004.pkl',\n",
    "                       dir_path+'20201020_Pop_Cage_005.pkl',\n",
    "                       dir_path+'20201020_Pop_Cage_006.pkl',\n",
    "                       dir_path+'20201020_Pop_Cage_007.pkl',]"
   ]
  },
  {
   "cell_type": "code",
   "execution_count": null,
   "id": "8c7557fd",
   "metadata": {},
   "outputs": [],
   "source": [
    "# Print the begavior classes in each video\n",
    "\n",
    "# for file in cage_data_filenames:\n",
    "#     with open (file, 'rb' ) as fp:\n",
    "#         temp = pickle.load(fp)\n",
    "#     print(set(temp.behave_tags['tag']))"
   ]
  },
  {
   "cell_type": "markdown",
   "id": "1392c08c",
   "metadata": {},
   "source": [
    "## Autocorrelation"
   ]
  },
  {
   "cell_type": "code",
   "execution_count": null,
   "id": "a64920b2",
   "metadata": {},
   "outputs": [],
   "source": [
    "# YOU DON'T NEED TO RUN THIS - See where autocorrelation drops off in order to pick a sequence length \n",
    "%matplotlib notebook\n",
    "muscles = np.array(filtered_EMG)[:10000]\n",
    "\n",
    "from scipy.stats import pearsonr, zscore\n",
    "import matplotlib.pyplot as plt\n",
    "\n",
    "auto_corrs = 0\n",
    "muscles = muscles - np.mean(muscles, axis=0)\n",
    "\n",
    "for i, muscle in enumerate(muscles):\n",
    "    auto_corrs += (np.correlate(muscle, muscle, mode=\"full\")) / len(muscle)\n",
    "auto_corrs /= 16\n",
    "plt.plot(auto_corrs)"
   ]
  },
  {
   "cell_type": "markdown",
   "id": "6a3b4b55",
   "metadata": {},
   "source": [
    "## Convert to VRAE format"
   ]
  },
  {
   "cell_type": "code",
   "execution_count": 12,
   "id": "0eeb0c24",
   "metadata": {},
   "outputs": [],
   "source": [
    "def convert_to_vrae_format(my_cage_data, SEQ_LEN, bhvs):\n",
    "    \n",
    "    # Sort all behavior segments by their start timestep - NOT EVERY EMG HAS A BEHAVIOR ASSIGNED TO IT \n",
    "    behavior_segs = my_cage_data.get_all_data_segment()\n",
    "    behavior_segs = sorted(behavior_segs, key=lambda k: k['timeframe'][0])\n",
    "    \n",
    "    # To get the rectified, filtered and downsampled EMGs\n",
    "    filtered_EMG = my_cage_data.binned['filtered_EMG']\n",
    "    filtered_EMG = np.array(filtered_EMG).T\n",
    "    \n",
    "    # Create list of tuples (time_stamp, behavior)\n",
    "    emg_lbls = []\n",
    "    for i, time in enumerate(timeframe):\n",
    "        curr_time_tup = None\n",
    "        for seg in behavior_segs:\n",
    "            if time >= seg['timeframe'][0] and time <= seg['timeframe'][-1]:\n",
    "                curr_emg_tup = np.concatenate((bhvs[seg['label']], filtered_EMG[i]))\n",
    "                break\n",
    "            else:\n",
    "                curr_emg_tup = np.concatenate((bhvs['no_behavior'], filtered_EMG[i]))\n",
    "        emg_lbls.append(curr_emg_tup)\n",
    "        \n",
    "    # Create array where timestamp is first dimension and (channels + behavior class) is second\n",
    "    emg_lbls = np.array(emg_lbls)\n",
    "    \n",
    "    # Chop off last last frames so we can evenly divide\n",
    "    rem = emg_lbls.shape[0] % SEQ_LEN\n",
    "    emg_lbls = emg_lbls[:-rem, :]\n",
    "    emg_lbls = emg_lbls.reshape(-1, SEQ_LEN, 16)\n",
    "    \n",
    "    # Find the most represented class in each sequence\n",
    "    out = []\n",
    "    overlap_idx = int(SEQ_LEN * 0.5)\n",
    "    for i, emg_seq in enumerate(emg_lbls):\n",
    "        # Append indexed sequence with its class\n",
    "        seq_class = stats.mode(emg_seq[:,0])[0]\n",
    "        flat_emg = emg_seq[:,1:].reshape(-1)\n",
    "        out.append(np.concatenate((seq_class, flat_emg)))\n",
    "\n",
    "        # Add 50% time overlap array to output\n",
    "        if i < len(emg_lbls) - 1:\n",
    "            overlap = np.concatenate((emg_seq[overlap_idx:, :], emg_lbls[i][:overlap_idx, :]), axis=0)\n",
    "            overlap_class = stats.mode(overlap[:,0])[0]\n",
    "            flat_overlap = overlap[:,1:].reshape(-1)\n",
    "            out.append(np.concatenate((overlap_class, flat_overlap)))\n",
    "    \n",
    "    out = np.array(out)\n",
    "    \n",
    "    return out"
   ]
  },
  {
   "cell_type": "code",
   "execution_count": 13,
   "id": "9a212e15",
   "metadata": {},
   "outputs": [],
   "source": [
    "SEQ_LEN = 10\n",
    "\n",
    "# Create behavior class dict for mapping - these are all the currently labeled behaviors they gave us\n",
    "bhvs = {'crawling': np.array([0]),\n",
    "        'high picking treats': np.array([1]),\n",
    "        'low picking treats': np.array([2]),\n",
    "        'pg': np.array([3]),\n",
    "        'sitting still': np.array([4]),\n",
    "        'grooming': np.array([5]),\n",
    "        'no_behavior': np.array([-1])}\n",
    "\n",
    "# Create inverse mapping for debugging\n",
    "# inv_bhvs = {v: k for k, v in bhvs.items()}\n",
    "inv_bhvs = {int(v): k for k, v in bhvs.items()}"
   ]
  },
  {
   "cell_type": "code",
   "execution_count": 31,
   "id": "0969a020",
   "metadata": {},
   "outputs": [
    {
     "name": "stdout",
     "output_type": "stream",
     "text": [
      "The file /media/storage/behavior_data/millerlab/continuous/20201020_Pop_Cage_007.pkl is going to be loaded\n"
     ]
    },
    {
     "ename": "AttributeError",
     "evalue": "Can't get attribute 'cage_data' on <module 'cage_data' from '/home/roton2/ruize/timeseries-clustering-vae/cage_data/__init__.py'>",
     "output_type": "error",
     "traceback": [
      "\u001b[0;31m---------------------------------------------------------------------------\u001b[0m",
      "\u001b[0;31mAttributeError\u001b[0m                            Traceback (most recent call last)",
      "\u001b[0;32m/tmp/ipykernel_2419705/1978865839.py\u001b[0m in \u001b[0;36m<module>\u001b[0;34m\u001b[0m\n\u001b[1;32m      3\u001b[0m \u001b[0mprint\u001b[0m\u001b[0;34m(\u001b[0m\u001b[0;34m'The file %s is going to be loaded'\u001b[0m\u001b[0;34m%\u001b[0m\u001b[0;34m(\u001b[0m\u001b[0mdata_path\u001b[0m \u001b[0;34m+\u001b[0m \u001b[0mfile_name\u001b[0m\u001b[0;34m)\u001b[0m\u001b[0;34m)\u001b[0m\u001b[0;34m\u001b[0m\u001b[0;34m\u001b[0m\u001b[0m\n\u001b[1;32m      4\u001b[0m \u001b[0;32mwith\u001b[0m \u001b[0mopen\u001b[0m \u001b[0;34m(\u001b[0m \u001b[0mdata_path\u001b[0m \u001b[0;34m+\u001b[0m \u001b[0mfile_name\u001b[0m\u001b[0;34m,\u001b[0m \u001b[0;34m'rb'\u001b[0m \u001b[0;34m)\u001b[0m \u001b[0;32mas\u001b[0m \u001b[0mfp\u001b[0m\u001b[0;34m:\u001b[0m\u001b[0;34m\u001b[0m\u001b[0;34m\u001b[0m\u001b[0m\n\u001b[0;32m----> 5\u001b[0;31m     \u001b[0mmy_cage_data\u001b[0m \u001b[0;34m=\u001b[0m \u001b[0mpickle\u001b[0m\u001b[0;34m.\u001b[0m\u001b[0mload\u001b[0m\u001b[0;34m(\u001b[0m\u001b[0mfp\u001b[0m\u001b[0;34m)\u001b[0m\u001b[0;34m\u001b[0m\u001b[0;34m\u001b[0m\u001b[0m\n\u001b[0m\u001b[1;32m      6\u001b[0m \u001b[0mmy_cage_data\u001b[0m\u001b[0;34m.\u001b[0m\u001b[0mpre_processing_summary\u001b[0m\u001b[0;34m(\u001b[0m\u001b[0;34m)\u001b[0m\u001b[0;34m\u001b[0m\u001b[0;34m\u001b[0m\u001b[0m\n",
      "\u001b[0;31mAttributeError\u001b[0m: Can't get attribute 'cage_data' on <module 'cage_data' from '/home/roton2/ruize/timeseries-clustering-vae/cage_data/__init__.py'>"
     ]
    }
   ],
   "source": [
    "data_path = '/media/storage/behavior_data/millerlab/continuous/'\n",
    "file_name = '20201020_Pop_Cage_007.pkl'\n",
    "print('The file %s is going to be loaded'%(data_path + file_name))\n",
    "with open ( data_path + file_name, 'rb' ) as fp:\n",
    "    my_cage_data = pickle.load(fp)\n",
    "my_cage_data.pre_processing_summary()"
   ]
  },
  {
   "cell_type": "code",
   "execution_count": 21,
   "id": "b94e5cf9",
   "metadata": {},
   "outputs": [
    {
     "name": "stdout",
     "output_type": "stream",
     "text": [
      "The file /media/storage/behavior_data/millerlab/continuous/20201020_Pop_Cage_001.pkl is going to be loaded\n"
     ]
    },
    {
     "ename": "AttributeError",
     "evalue": "Can't get attribute 'cage_data' on <module 'cage_data' from '/home/roton2/ruize/timeseries-clustering-vae/cage_data/__init__.py'>",
     "output_type": "error",
     "traceback": [
      "\u001b[0;31m---------------------------------------------------------------------------\u001b[0m",
      "\u001b[0;31mAttributeError\u001b[0m                            Traceback (most recent call last)",
      "\u001b[0;32m/tmp/ipykernel_2419705/3934034100.py\u001b[0m in \u001b[0;36m<module>\u001b[0;34m\u001b[0m\n\u001b[1;32m      3\u001b[0m \u001b[0mprint\u001b[0m\u001b[0;34m(\u001b[0m\u001b[0;34m'The file %s is going to be loaded'\u001b[0m\u001b[0;34m%\u001b[0m\u001b[0;34m(\u001b[0m\u001b[0mdata_path\u001b[0m \u001b[0;34m+\u001b[0m \u001b[0mfile_name\u001b[0m\u001b[0;34m)\u001b[0m\u001b[0;34m)\u001b[0m\u001b[0;34m\u001b[0m\u001b[0;34m\u001b[0m\u001b[0m\n\u001b[1;32m      4\u001b[0m \u001b[0;32mwith\u001b[0m \u001b[0mopen\u001b[0m \u001b[0;34m(\u001b[0m \u001b[0mdata_path\u001b[0m \u001b[0;34m+\u001b[0m \u001b[0mfile_name\u001b[0m\u001b[0;34m,\u001b[0m \u001b[0;34m'rb'\u001b[0m \u001b[0;34m)\u001b[0m \u001b[0;32mas\u001b[0m \u001b[0mfp\u001b[0m\u001b[0;34m:\u001b[0m\u001b[0;34m\u001b[0m\u001b[0;34m\u001b[0m\u001b[0m\n\u001b[0;32m----> 5\u001b[0;31m     \u001b[0mmy_cage_data\u001b[0m \u001b[0;34m=\u001b[0m \u001b[0mpickle\u001b[0m\u001b[0;34m.\u001b[0m\u001b[0mload\u001b[0m\u001b[0;34m(\u001b[0m\u001b[0mfp\u001b[0m\u001b[0;34m)\u001b[0m\u001b[0;34m\u001b[0m\u001b[0;34m\u001b[0m\u001b[0m\n\u001b[0m\u001b[1;32m      6\u001b[0m \u001b[0mmy_cage_data\u001b[0m\u001b[0;34m.\u001b[0m\u001b[0mpre_processing_summary\u001b[0m\u001b[0;34m(\u001b[0m\u001b[0;34m)\u001b[0m\u001b[0;34m\u001b[0m\u001b[0;34m\u001b[0m\u001b[0m\n",
      "\u001b[0;31mAttributeError\u001b[0m: Can't get attribute 'cage_data' on <module 'cage_data' from '/home/roton2/ruize/timeseries-clustering-vae/cage_data/__init__.py'>"
     ]
    }
   ],
   "source": [
    "data_path = '/media/storage/behavior_data/millerlab/continuous/'\n",
    "file_name = '20201020_Pop_Cage_001.pkl'\n",
    "print('The file %s is going to be loaded'%(data_path + file_name))\n",
    "with open ( data_path + file_name, 'rb' ) as fp:\n",
    "    my_cage_data = pickle.load(fp)\n",
    "my_cage_data.pre_processing_summary()"
   ]
  },
  {
   "cell_type": "code",
   "execution_count": 19,
   "id": "7642c9e5",
   "metadata": {},
   "outputs": [
    {
     "name": "stdout",
     "output_type": "stream",
     "text": [
      "/media/storage/behavior_data/millerlab/continuous/20201020_Pop_Cage_001.pkl\n"
     ]
    },
    {
     "ename": "AttributeError",
     "evalue": "Can't get attribute 'cage_data' on <module 'cage_data' from '/home/roton2/ruize/timeseries-clustering-vae/cage_data/__init__.py'>",
     "output_type": "error",
     "traceback": [
      "\u001b[0;31m---------------------------------------------------------------------------\u001b[0m",
      "\u001b[0;31mAttributeError\u001b[0m                            Traceback (most recent call last)",
      "\u001b[0;32m/tmp/ipykernel_2419705/2829793348.py\u001b[0m in \u001b[0;36m<module>\u001b[0;34m\u001b[0m\n\u001b[1;32m      3\u001b[0m     \u001b[0mprint\u001b[0m\u001b[0;34m(\u001b[0m\u001b[0mfile\u001b[0m\u001b[0;34m)\u001b[0m\u001b[0;34m\u001b[0m\u001b[0;34m\u001b[0m\u001b[0m\n\u001b[1;32m      4\u001b[0m     \u001b[0;32mwith\u001b[0m \u001b[0mopen\u001b[0m \u001b[0;34m(\u001b[0m \u001b[0mfile\u001b[0m\u001b[0;34m,\u001b[0m \u001b[0;34m'rb'\u001b[0m \u001b[0;34m)\u001b[0m \u001b[0;32mas\u001b[0m \u001b[0mfh\u001b[0m\u001b[0;34m:\u001b[0m\u001b[0;34m\u001b[0m\u001b[0;34m\u001b[0m\u001b[0m\n\u001b[0;32m----> 5\u001b[0;31m         \u001b[0mmy_cage_data\u001b[0m \u001b[0;34m=\u001b[0m \u001b[0mpickle\u001b[0m\u001b[0;34m.\u001b[0m\u001b[0mload\u001b[0m\u001b[0;34m(\u001b[0m\u001b[0mfh\u001b[0m\u001b[0;34m)\u001b[0m\u001b[0;34m\u001b[0m\u001b[0;34m\u001b[0m\u001b[0m\n\u001b[0m\u001b[1;32m      6\u001b[0m     \u001b[0mconverted_temp\u001b[0m \u001b[0;34m=\u001b[0m \u001b[0mconvert_to_vrae_format\u001b[0m\u001b[0;34m(\u001b[0m\u001b[0mmy_cage_data\u001b[0m\u001b[0;34m,\u001b[0m \u001b[0mSEQ_LEN\u001b[0m\u001b[0;34m,\u001b[0m \u001b[0mbhvs\u001b[0m\u001b[0;34m)\u001b[0m\u001b[0;34m\u001b[0m\u001b[0;34m\u001b[0m\u001b[0m\n\u001b[1;32m      7\u001b[0m     \u001b[0mprint\u001b[0m\u001b[0;34m(\u001b[0m\u001b[0mconverted_temp\u001b[0m\u001b[0;34m.\u001b[0m\u001b[0mshape\u001b[0m\u001b[0;34m)\u001b[0m\u001b[0;34m\u001b[0m\u001b[0;34m\u001b[0m\u001b[0m\n",
      "\u001b[0;31mAttributeError\u001b[0m: Can't get attribute 'cage_data' on <module 'cage_data' from '/home/roton2/ruize/timeseries-clustering-vae/cage_data/__init__.py'>"
     ]
    }
   ],
   "source": [
    "data_converted = []\n",
    "for file in cage_data_filenames:\n",
    "    print(file)\n",
    "    with open ( file, 'rb' ) as fh:\n",
    "        my_cage_data = pickle.load(fh)\n",
    "    converted_temp = convert_to_vrae_format(my_cage_data, SEQ_LEN, bhvs)\n",
    "    print(converted_temp.shape)\n",
    "    data_converted.append(converted_temp)\n",
    "print(converted_temp.shape)"
   ]
  },
  {
   "cell_type": "code",
   "execution_count": null,
   "id": "be1dca45",
   "metadata": {},
   "outputs": [],
   "source": []
  },
  {
   "cell_type": "code",
   "execution_count": 11,
   "id": "14dcf97f",
   "metadata": {},
   "outputs": [
    {
     "data": {
      "text/plain": [
       "[array([[1., 1., 1., 1., 1.],\n",
       "        [1., 1., 1., 1., 1.],\n",
       "        [1., 1., 1., 1., 1.]]),\n",
       " array([[1., 1., 1., 1., 1.],\n",
       "        [1., 1., 1., 1., 1.],\n",
       "        [1., 1., 1., 1., 1.],\n",
       "        [1., 1., 1., 1., 1.]])]"
      ]
     },
     "execution_count": 11,
     "metadata": {},
     "output_type": "execute_result"
    }
   ],
   "source": [
    "aaa = np.ones((3,5))\n",
    "bbb = np.ones((4,5))\n",
    "test = []\n",
    "test.append(aaa)\n",
    "test.append(bbb)\n",
    "test"
   ]
  }
 ],
 "metadata": {
  "kernelspec": {
   "display_name": "Python 3 (ipykernel)",
   "language": "python",
   "name": "python3"
  },
  "language_info": {
   "codemirror_mode": {
    "name": "ipython",
    "version": 3
   },
   "file_extension": ".py",
   "mimetype": "text/x-python",
   "name": "python",
   "nbconvert_exporter": "python",
   "pygments_lexer": "ipython3",
   "version": "3.9.7"
  }
 },
 "nbformat": 4,
 "nbformat_minor": 5
}
